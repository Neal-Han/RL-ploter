{
 "cells": [
  {
   "cell_type": "code",
   "execution_count": 21,
   "id": "6d2d7141",
   "metadata": {},
   "outputs": [],
   "source": [
    "from RLPloter import RlPloter\n"
   ]
  },
  {
   "cell_type": "code",
   "execution_count": 22,
   "id": "f483947e",
   "metadata": {},
   "outputs": [
    {
     "ename": "TypeError",
     "evalue": "showFigure() got an unexpected keyword argument 'fileName'",
     "output_type": "error",
     "traceback": [
      "\u001b[0;31m---------------------------------------------------------------------------\u001b[0m",
      "\u001b[0;31mTypeError\u001b[0m                                 Traceback (most recent call last)",
      "\u001b[0;32m<ipython-input-22-8b952bf58946>\u001b[0m in \u001b[0;36m<module>\u001b[0;34m\u001b[0m\n\u001b[1;32m     18\u001b[0m \u001b[0mP\u001b[0m\u001b[0;34m.\u001b[0m\u001b[0msetXScale\u001b[0m\u001b[0;34m(\u001b[0m\u001b[0;36m2\u001b[0m\u001b[0;34m)\u001b[0m\u001b[0;34m\u001b[0m\u001b[0;34m\u001b[0m\u001b[0m\n\u001b[1;32m     19\u001b[0m \u001b[0mP\u001b[0m\u001b[0;34m.\u001b[0m\u001b[0msetYScale\u001b[0m\u001b[0;34m(\u001b[0m\u001b[0;36m2\u001b[0m\u001b[0;34m)\u001b[0m\u001b[0;34m\u001b[0m\u001b[0;34m\u001b[0m\u001b[0m\n\u001b[0;32m---> 20\u001b[0;31m \u001b[0mP\u001b[0m\u001b[0;34m.\u001b[0m\u001b[0mshowFigure\u001b[0m\u001b[0;34m(\u001b[0m\u001b[0mshow\u001b[0m\u001b[0;34m=\u001b[0m\u001b[0;32mTrue\u001b[0m\u001b[0;34m,\u001b[0m \u001b[0msave\u001b[0m\u001b[0;34m=\u001b[0m\u001b[0;32mFalse\u001b[0m\u001b[0;34m,\u001b[0m \u001b[0mfileName\u001b[0m\u001b[0;34m=\u001b[0m\u001b[0;34m\"figure\"\u001b[0m\u001b[0;34m)\u001b[0m\u001b[0;34m\u001b[0m\u001b[0;34m\u001b[0m\u001b[0m\n\u001b[0m",
      "\u001b[0;31mTypeError\u001b[0m: showFigure() got an unexpected keyword argument 'fileName'"
     ]
    }
   ],
   "source": [
    "P = RlPloter()\n",
    "P.setTitle('Example')\n",
    "P.setLabel('x-axis','y-axis')\n",
    "\n",
    "data1 = [[23, 19, 20, 19, 11, 15, 14],             \n",
    "         [19, 24, 19, 21, 20, 15, 12],             \n",
    "         [19, 20, 20, 20, 17, 10, 9],             \n",
    "         [20, 20, 20, 20, 12, 19, 13]]   \n",
    "\n",
    "data2 = [[22, 23, 22, 20, 19, 17, 4],            \n",
    "         [18, 20, 22, 20, 20, 19, 9],            \n",
    "         [19, 20, 20, 19, 19, 15, 4],\n",
    "         [19, 21, 21, 19, 19, 14, 2]]   \n",
    "\n",
    "\n",
    "P.addData(data1,'test1')\n",
    "P.addData(data2,'test2')\n",
    "P.setXScale(2) \n",
    "P.setYScale(2)   \n",
    "P.showFigure(show=True, save=False, fileName=\"figure\")"
   ]
  },
  {
   "cell_type": "code",
   "execution_count": null,
   "id": "5ab944f0",
   "metadata": {},
   "outputs": [],
   "source": []
  },
  {
   "cell_type": "code",
   "execution_count": null,
   "id": "3814ae70",
   "metadata": {},
   "outputs": [],
   "source": []
  },
  {
   "cell_type": "code",
   "execution_count": null,
   "id": "72c8a4f1",
   "metadata": {},
   "outputs": [],
   "source": []
  }
 ],
 "metadata": {
  "kernelspec": {
   "display_name": "Python 3",
   "language": "python",
   "name": "python3"
  },
  "language_info": {
   "codemirror_mode": {
    "name": "ipython",
    "version": 3
   },
   "file_extension": ".py",
   "mimetype": "text/x-python",
   "name": "python",
   "nbconvert_exporter": "python",
   "pygments_lexer": "ipython3",
   "version": "3.7.10"
  }
 },
 "nbformat": 4,
 "nbformat_minor": 5
}
